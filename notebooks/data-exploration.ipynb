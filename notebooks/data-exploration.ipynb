{
 "cells": [
  {
   "cell_type": "code",
   "execution_count": 1,
   "metadata": {},
   "outputs": [
    {
     "data": {
      "text/html": [
       "<pre style=\"white-space:pre;overflow-x:auto;line-height:normal;font-family:Menlo,'DejaVu Sans Mono',consolas,'Courier New',monospace\"><span style=\"color: #7fbfbf; text-decoration-color: #7fbfbf\">[08/25/24 17:35:43] </span><span style=\"color: #000080; text-decoration-color: #000080\">INFO    </span> Using                                                                  <a href=\"file:///home/randi_eka/anaconda3/envs/kedro-environment/lib/python3.10/site-packages/kedro/framework/project/__init__.py\" target=\"_blank\"><span style=\"color: #7f7f7f; text-decoration-color: #7f7f7f\">__init__.py</span></a><span style=\"color: #7f7f7f; text-decoration-color: #7f7f7f\">:</span><a href=\"file:///home/randi_eka/anaconda3/envs/kedro-environment/lib/python3.10/site-packages/kedro/framework/project/__init__.py#249\" target=\"_blank\"><span style=\"color: #7f7f7f; text-decoration-color: #7f7f7f\">249</span></a>\n",
       "<span style=\"color: #7fbfbf; text-decoration-color: #7fbfbf\">                    </span>         <span style=\"color: #008000; text-decoration-color: #008000\">'/home/randi_eka/anaconda3/envs/kedro-environment/lib/python3.10/site-</span> <span style=\"color: #7f7f7f; text-decoration-color: #7f7f7f\">               </span>\n",
       "<span style=\"color: #7fbfbf; text-decoration-color: #7fbfbf\">                    </span>         <span style=\"color: #008000; text-decoration-color: #008000\">packages/kedro/framework/project/rich_logging.yml'</span> as logging          <span style=\"color: #7f7f7f; text-decoration-color: #7f7f7f\">               </span>\n",
       "<span style=\"color: #7fbfbf; text-decoration-color: #7fbfbf\">                    </span>         configuration.                                                         <span style=\"color: #7f7f7f; text-decoration-color: #7f7f7f\">               </span>\n",
       "</pre>\n"
      ],
      "text/plain": [
       "\u001b[2;36m[08/25/24 17:35:43]\u001b[0m\u001b[2;36m \u001b[0m\u001b[34mINFO    \u001b[0m Using                                                                  \u001b]8;id=218783;file:///home/randi_eka/anaconda3/envs/kedro-environment/lib/python3.10/site-packages/kedro/framework/project/__init__.py\u001b\\\u001b[2m__init__.py\u001b[0m\u001b]8;;\u001b\\\u001b[2m:\u001b[0m\u001b]8;id=129029;file:///home/randi_eka/anaconda3/envs/kedro-environment/lib/python3.10/site-packages/kedro/framework/project/__init__.py#249\u001b\\\u001b[2m249\u001b[0m\u001b]8;;\u001b\\\n",
       "\u001b[2;36m                    \u001b[0m         \u001b[32m'/home/randi_eka/anaconda3/envs/kedro-environment/lib/python3.10/site-\u001b[0m \u001b[2m               \u001b[0m\n",
       "\u001b[2;36m                    \u001b[0m         \u001b[32mpackages/kedro/framework/project/rich_logging.yml'\u001b[0m as logging          \u001b[2m               \u001b[0m\n",
       "\u001b[2;36m                    \u001b[0m         configuration.                                                         \u001b[2m               \u001b[0m\n"
      ]
     },
     "metadata": {},
     "output_type": "display_data"
    },
    {
     "data": {
      "text/html": [
       "<pre style=\"white-space:pre;overflow-x:auto;line-height:normal;font-family:Menlo,'DejaVu Sans Mono',consolas,'Courier New',monospace\"><span style=\"color: #7fbfbf; text-decoration-color: #7fbfbf\">                    </span><span style=\"color: #000080; text-decoration-color: #000080\">INFO    </span> Registered line magic <span style=\"color: #008000; text-decoration-color: #008000\">'%reload_kedro'</span>                                   <a href=\"file:///home/randi_eka/anaconda3/envs/kedro-environment/lib/python3.10/site-packages/kedro/ipython/__init__.py\" target=\"_blank\"><span style=\"color: #7f7f7f; text-decoration-color: #7f7f7f\">__init__.py</span></a><span style=\"color: #7f7f7f; text-decoration-color: #7f7f7f\">:</span><a href=\"file:///home/randi_eka/anaconda3/envs/kedro-environment/lib/python3.10/site-packages/kedro/ipython/__init__.py#58\" target=\"_blank\"><span style=\"color: #7f7f7f; text-decoration-color: #7f7f7f\">58</span></a>\n",
       "</pre>\n"
      ],
      "text/plain": [
       "\u001b[2;36m                   \u001b[0m\u001b[2;36m \u001b[0m\u001b[34mINFO    \u001b[0m Registered line magic \u001b[32m'%reload_kedro'\u001b[0m                                   \u001b]8;id=302018;file:///home/randi_eka/anaconda3/envs/kedro-environment/lib/python3.10/site-packages/kedro/ipython/__init__.py\u001b\\\u001b[2m__init__.py\u001b[0m\u001b]8;;\u001b\\\u001b[2m:\u001b[0m\u001b]8;id=929950;file:///home/randi_eka/anaconda3/envs/kedro-environment/lib/python3.10/site-packages/kedro/ipython/__init__.py#58\u001b\\\u001b[2m58\u001b[0m\u001b]8;;\u001b\\\n"
      ]
     },
     "metadata": {},
     "output_type": "display_data"
    },
    {
     "data": {
      "text/html": [
       "<pre style=\"white-space:pre;overflow-x:auto;line-height:normal;font-family:Menlo,'DejaVu Sans Mono',consolas,'Courier New',monospace\"><span style=\"color: #7fbfbf; text-decoration-color: #7fbfbf\">                    </span><span style=\"color: #000080; text-decoration-color: #000080\">INFO    </span> Registered line magic <span style=\"color: #008000; text-decoration-color: #008000\">'%load_node'</span>                                      <a href=\"file:///home/randi_eka/anaconda3/envs/kedro-environment/lib/python3.10/site-packages/kedro/ipython/__init__.py\" target=\"_blank\"><span style=\"color: #7f7f7f; text-decoration-color: #7f7f7f\">__init__.py</span></a><span style=\"color: #7f7f7f; text-decoration-color: #7f7f7f\">:</span><a href=\"file:///home/randi_eka/anaconda3/envs/kedro-environment/lib/python3.10/site-packages/kedro/ipython/__init__.py#60\" target=\"_blank\"><span style=\"color: #7f7f7f; text-decoration-color: #7f7f7f\">60</span></a>\n",
       "</pre>\n"
      ],
      "text/plain": [
       "\u001b[2;36m                   \u001b[0m\u001b[2;36m \u001b[0m\u001b[34mINFO    \u001b[0m Registered line magic \u001b[32m'%load_node'\u001b[0m                                      \u001b]8;id=216357;file:///home/randi_eka/anaconda3/envs/kedro-environment/lib/python3.10/site-packages/kedro/ipython/__init__.py\u001b\\\u001b[2m__init__.py\u001b[0m\u001b]8;;\u001b\\\u001b[2m:\u001b[0m\u001b]8;id=183622;file:///home/randi_eka/anaconda3/envs/kedro-environment/lib/python3.10/site-packages/kedro/ipython/__init__.py#60\u001b\\\u001b[2m60\u001b[0m\u001b]8;;\u001b\\\n"
      ]
     },
     "metadata": {},
     "output_type": "display_data"
    },
    {
     "data": {
      "text/html": [
       "<pre style=\"white-space:pre;overflow-x:auto;line-height:normal;font-family:Menlo,'DejaVu Sans Mono',consolas,'Courier New',monospace\"><span style=\"color: #7fbfbf; text-decoration-color: #7fbfbf\">                    </span><span style=\"color: #000080; text-decoration-color: #000080\">INFO    </span> Resolved project path as:                                              <a href=\"file:///home/randi_eka/anaconda3/envs/kedro-environment/lib/python3.10/site-packages/kedro/ipython/__init__.py\" target=\"_blank\"><span style=\"color: #7f7f7f; text-decoration-color: #7f7f7f\">__init__.py</span></a><span style=\"color: #7f7f7f; text-decoration-color: #7f7f7f\">:</span><a href=\"file:///home/randi_eka/anaconda3/envs/kedro-environment/lib/python3.10/site-packages/kedro/ipython/__init__.py#175\" target=\"_blank\"><span style=\"color: #7f7f7f; text-decoration-color: #7f7f7f\">175</span></a>\n",
       "<span style=\"color: #7fbfbf; text-decoration-color: #7fbfbf\">                    </span>         <span style=\"color: #800080; text-decoration-color: #800080\">/home/randi_eka/kedro-introduction/</span><span style=\"color: #ff00ff; text-decoration-color: #ff00ff\">spaceflights.</span>                       <span style=\"color: #7f7f7f; text-decoration-color: #7f7f7f\">               </span>\n",
       "<span style=\"color: #7fbfbf; text-decoration-color: #7fbfbf\">                    </span>         To set a different path, run <span style=\"color: #008000; text-decoration-color: #008000\">'%reload_kedro &lt;project_root&gt;'</span>            <span style=\"color: #7f7f7f; text-decoration-color: #7f7f7f\">               </span>\n",
       "</pre>\n"
      ],
      "text/plain": [
       "\u001b[2;36m                   \u001b[0m\u001b[2;36m \u001b[0m\u001b[34mINFO    \u001b[0m Resolved project path as:                                              \u001b]8;id=999223;file:///home/randi_eka/anaconda3/envs/kedro-environment/lib/python3.10/site-packages/kedro/ipython/__init__.py\u001b\\\u001b[2m__init__.py\u001b[0m\u001b]8;;\u001b\\\u001b[2m:\u001b[0m\u001b]8;id=235645;file:///home/randi_eka/anaconda3/envs/kedro-environment/lib/python3.10/site-packages/kedro/ipython/__init__.py#175\u001b\\\u001b[2m175\u001b[0m\u001b]8;;\u001b\\\n",
       "\u001b[2;36m                    \u001b[0m         \u001b[35m/home/randi_eka/kedro-introduction/\u001b[0m\u001b[95mspaceflights.\u001b[0m                       \u001b[2m               \u001b[0m\n",
       "\u001b[2;36m                    \u001b[0m         To set a different path, run \u001b[32m'%reload_kedro \u001b[0m\u001b[32m<\u001b[0m\u001b[32mproject_root\u001b[0m\u001b[32m>\u001b[0m\u001b[32m'\u001b[0m            \u001b[2m               \u001b[0m\n"
      ]
     },
     "metadata": {},
     "output_type": "display_data"
    },
    {
     "data": {
      "text/html": [
       "<pre style=\"white-space:pre;overflow-x:auto;line-height:normal;font-family:Menlo,'DejaVu Sans Mono',consolas,'Courier New',monospace\"><span style=\"color: #7fbfbf; text-decoration-color: #7fbfbf\">[08/25/24 17:35:43] </span><span style=\"color: #000080; text-decoration-color: #000080\">INFO    </span> Kedro is sending anonymous usage data with the sole purpose of improving <a href=\"file:///home/randi_eka/anaconda3/envs/kedro-environment/lib/python3.10/site-packages/kedro_telemetry/plugin.py\" target=\"_blank\"><span style=\"color: #7f7f7f; text-decoration-color: #7f7f7f\">plugin.py</span></a><span style=\"color: #7f7f7f; text-decoration-color: #7f7f7f\">:</span><a href=\"file:///home/randi_eka/anaconda3/envs/kedro-environment/lib/python3.10/site-packages/kedro_telemetry/plugin.py#233\" target=\"_blank\"><span style=\"color: #7f7f7f; text-decoration-color: #7f7f7f\">233</span></a>\n",
       "<span style=\"color: #7fbfbf; text-decoration-color: #7fbfbf\">                    </span>         the product. No personal data or IP addresses are stored on our side. If <span style=\"color: #7f7f7f; text-decoration-color: #7f7f7f\">             </span>\n",
       "<span style=\"color: #7fbfbf; text-decoration-color: #7fbfbf\">                    </span>         you want to opt out, set the `KEDRO_DISABLE_TELEMETRY` or `DO_NOT_TRACK` <span style=\"color: #7f7f7f; text-decoration-color: #7f7f7f\">             </span>\n",
       "<span style=\"color: #7fbfbf; text-decoration-color: #7fbfbf\">                    </span>         environment variables, or create a `.telemetry` file in the current      <span style=\"color: #7f7f7f; text-decoration-color: #7f7f7f\">             </span>\n",
       "<span style=\"color: #7fbfbf; text-decoration-color: #7fbfbf\">                    </span>         working directory with the contents `consent: false`. Read more at       <span style=\"color: #7f7f7f; text-decoration-color: #7f7f7f\">             </span>\n",
       "<span style=\"color: #7fbfbf; text-decoration-color: #7fbfbf\">                    </span>         <span style=\"color: #0000ff; text-decoration-color: #0000ff; text-decoration: underline\">https://docs.kedro.org/en/stable/configuration/telemetry.html</span>            <span style=\"color: #7f7f7f; text-decoration-color: #7f7f7f\">             </span>\n",
       "</pre>\n"
      ],
      "text/plain": [
       "\u001b[2;36m[08/25/24 17:35:43]\u001b[0m\u001b[2;36m \u001b[0m\u001b[34mINFO    \u001b[0m Kedro is sending anonymous usage data with the sole purpose of improving \u001b]8;id=378010;file:///home/randi_eka/anaconda3/envs/kedro-environment/lib/python3.10/site-packages/kedro_telemetry/plugin.py\u001b\\\u001b[2mplugin.py\u001b[0m\u001b]8;;\u001b\\\u001b[2m:\u001b[0m\u001b]8;id=536994;file:///home/randi_eka/anaconda3/envs/kedro-environment/lib/python3.10/site-packages/kedro_telemetry/plugin.py#233\u001b\\\u001b[2m233\u001b[0m\u001b]8;;\u001b\\\n",
       "\u001b[2;36m                    \u001b[0m         the product. No personal data or IP addresses are stored on our side. If \u001b[2m             \u001b[0m\n",
       "\u001b[2;36m                    \u001b[0m         you want to opt out, set the `KEDRO_DISABLE_TELEMETRY` or `DO_NOT_TRACK` \u001b[2m             \u001b[0m\n",
       "\u001b[2;36m                    \u001b[0m         environment variables, or create a `.telemetry` file in the current      \u001b[2m             \u001b[0m\n",
       "\u001b[2;36m                    \u001b[0m         working directory with the contents `consent: false`. Read more at       \u001b[2m             \u001b[0m\n",
       "\u001b[2;36m                    \u001b[0m         \u001b[4;94mhttps://docs.kedro.org/en/stable/configuration/telemetry.html\u001b[0m            \u001b[2m             \u001b[0m\n"
      ]
     },
     "metadata": {},
     "output_type": "display_data"
    },
    {
     "data": {
      "text/html": [
       "<pre style=\"white-space:pre;overflow-x:auto;line-height:normal;font-family:Menlo,'DejaVu Sans Mono',consolas,'Courier New',monospace\"><span style=\"color: #7fbfbf; text-decoration-color: #7fbfbf\">[08/25/24 17:35:45] </span><span style=\"color: #000080; text-decoration-color: #000080\">INFO    </span> Kedro project spaceflights                                             <a href=\"file:///home/randi_eka/anaconda3/envs/kedro-environment/lib/python3.10/site-packages/kedro/ipython/__init__.py\" target=\"_blank\"><span style=\"color: #7f7f7f; text-decoration-color: #7f7f7f\">__init__.py</span></a><span style=\"color: #7f7f7f; text-decoration-color: #7f7f7f\">:</span><a href=\"file:///home/randi_eka/anaconda3/envs/kedro-environment/lib/python3.10/site-packages/kedro/ipython/__init__.py#141\" target=\"_blank\"><span style=\"color: #7f7f7f; text-decoration-color: #7f7f7f\">141</span></a>\n",
       "</pre>\n"
      ],
      "text/plain": [
       "\u001b[2;36m[08/25/24 17:35:45]\u001b[0m\u001b[2;36m \u001b[0m\u001b[34mINFO    \u001b[0m Kedro project spaceflights                                             \u001b]8;id=379168;file:///home/randi_eka/anaconda3/envs/kedro-environment/lib/python3.10/site-packages/kedro/ipython/__init__.py\u001b\\\u001b[2m__init__.py\u001b[0m\u001b]8;;\u001b\\\u001b[2m:\u001b[0m\u001b]8;id=308931;file:///home/randi_eka/anaconda3/envs/kedro-environment/lib/python3.10/site-packages/kedro/ipython/__init__.py#141\u001b\\\u001b[2m141\u001b[0m\u001b]8;;\u001b\\\n"
      ]
     },
     "metadata": {},
     "output_type": "display_data"
    },
    {
     "data": {
      "text/html": [
       "<pre style=\"white-space:pre;overflow-x:auto;line-height:normal;font-family:Menlo,'DejaVu Sans Mono',consolas,'Courier New',monospace\"><span style=\"color: #7fbfbf; text-decoration-color: #7fbfbf\">                    </span><span style=\"color: #000080; text-decoration-color: #000080\">INFO    </span> Defined global variable <span style=\"color: #008000; text-decoration-color: #008000\">'context'</span>, <span style=\"color: #008000; text-decoration-color: #008000\">'session'</span>, <span style=\"color: #008000; text-decoration-color: #008000\">'catalog'</span> and            <a href=\"file:///home/randi_eka/anaconda3/envs/kedro-environment/lib/python3.10/site-packages/kedro/ipython/__init__.py\" target=\"_blank\"><span style=\"color: #7f7f7f; text-decoration-color: #7f7f7f\">__init__.py</span></a><span style=\"color: #7f7f7f; text-decoration-color: #7f7f7f\">:</span><a href=\"file:///home/randi_eka/anaconda3/envs/kedro-environment/lib/python3.10/site-packages/kedro/ipython/__init__.py#142\" target=\"_blank\"><span style=\"color: #7f7f7f; text-decoration-color: #7f7f7f\">142</span></a>\n",
       "<span style=\"color: #7fbfbf; text-decoration-color: #7fbfbf\">                    </span>         <span style=\"color: #008000; text-decoration-color: #008000\">'pipelines'</span>                                                            <span style=\"color: #7f7f7f; text-decoration-color: #7f7f7f\">               </span>\n",
       "</pre>\n"
      ],
      "text/plain": [
       "\u001b[2;36m                   \u001b[0m\u001b[2;36m \u001b[0m\u001b[34mINFO    \u001b[0m Defined global variable \u001b[32m'context'\u001b[0m, \u001b[32m'session'\u001b[0m, \u001b[32m'catalog'\u001b[0m and            \u001b]8;id=661261;file:///home/randi_eka/anaconda3/envs/kedro-environment/lib/python3.10/site-packages/kedro/ipython/__init__.py\u001b\\\u001b[2m__init__.py\u001b[0m\u001b]8;;\u001b\\\u001b[2m:\u001b[0m\u001b]8;id=773154;file:///home/randi_eka/anaconda3/envs/kedro-environment/lib/python3.10/site-packages/kedro/ipython/__init__.py#142\u001b\\\u001b[2m142\u001b[0m\u001b]8;;\u001b\\\n",
       "\u001b[2;36m                    \u001b[0m         \u001b[32m'pipelines'\u001b[0m                                                            \u001b[2m               \u001b[0m\n"
      ]
     },
     "metadata": {},
     "output_type": "display_data"
    },
    {
     "data": {
      "text/html": [
       "<pre style=\"white-space:pre;overflow-x:auto;line-height:normal;font-family:Menlo,'DejaVu Sans Mono',consolas,'Courier New',monospace\"><span style=\"color: #7fbfbf; text-decoration-color: #7fbfbf\">[08/25/24 17:35:46] </span><span style=\"color: #000080; text-decoration-color: #000080\">INFO    </span> Registered line magic <span style=\"color: #008000; text-decoration-color: #008000\">'run_viz'</span>                                        <a href=\"file:///home/randi_eka/anaconda3/envs/kedro-environment/lib/python3.10/site-packages/kedro/ipython/__init__.py\" target=\"_blank\"><span style=\"color: #7f7f7f; text-decoration-color: #7f7f7f\">__init__.py</span></a><span style=\"color: #7f7f7f; text-decoration-color: #7f7f7f\">:</span><a href=\"file:///home/randi_eka/anaconda3/envs/kedro-environment/lib/python3.10/site-packages/kedro/ipython/__init__.py#148\" target=\"_blank\"><span style=\"color: #7f7f7f; text-decoration-color: #7f7f7f\">148</span></a>\n",
       "</pre>\n"
      ],
      "text/plain": [
       "\u001b[2;36m[08/25/24 17:35:46]\u001b[0m\u001b[2;36m \u001b[0m\u001b[34mINFO    \u001b[0m Registered line magic \u001b[32m'run_viz'\u001b[0m                                        \u001b]8;id=707606;file:///home/randi_eka/anaconda3/envs/kedro-environment/lib/python3.10/site-packages/kedro/ipython/__init__.py\u001b\\\u001b[2m__init__.py\u001b[0m\u001b]8;;\u001b\\\u001b[2m:\u001b[0m\u001b]8;id=704587;file:///home/randi_eka/anaconda3/envs/kedro-environment/lib/python3.10/site-packages/kedro/ipython/__init__.py#148\u001b\\\u001b[2m148\u001b[0m\u001b]8;;\u001b\\\n"
      ]
     },
     "metadata": {},
     "output_type": "display_data"
    }
   ],
   "source": [
    "%load_ext kedro.ipython"
   ]
  },
  {
   "cell_type": "code",
   "execution_count": 2,
   "metadata": {},
   "outputs": [
    {
     "data": {
      "text/html": [
       "<pre style=\"white-space:pre;overflow-x:auto;line-height:normal;font-family:Menlo,'DejaVu Sans Mono',consolas,'Courier New',monospace\"></pre>\n"
      ],
      "text/plain": []
     },
     "metadata": {},
     "output_type": "display_data"
    },
    {
     "data": {
      "text/plain": [
       "\n",
       "\u001b[1m{\u001b[0m\u001b[32m'companies'\u001b[0m: \u001b[32m\"kedro_datasets.pandas.csv_dataset.CSVDataset\u001b[0m\u001b[32m(\u001b[0m\u001b[32mfilepath\u001b[0m\u001b[32m=\u001b[0m\u001b[32mPurePosixPath\u001b[0m\u001b[32m(\u001b[0m\u001b[32m'/home/randi_eka/kedro-introduction/spaceflights/data/01_raw/companies.csv'\u001b[0m\u001b[32m)\u001b[0m\u001b[32m, \"\u001b[0m\n",
       "              \u001b[32m\"\u001b[0m\u001b[32mprotocol\u001b[0m\u001b[32m='file', \u001b[0m\u001b[32mload_args\u001b[0m\u001b[32m=\u001b[0m\u001b[32m{\u001b[0m\u001b[32m}\u001b[0m\u001b[32m, \u001b[0m\u001b[32msave_args\u001b[0m\u001b[32m=\u001b[0m\u001b[32m{\u001b[0m\u001b[32m'index': False\u001b[0m\u001b[32m}\u001b[0m\u001b[32m)\u001b[0m\u001b[32m\"\u001b[0m,\n",
       " \u001b[32m'reviews'\u001b[0m: \u001b[32m\"kedro_datasets.pandas.csv_dataset.CSVDataset\u001b[0m\u001b[32m(\u001b[0m\u001b[32mfilepath\u001b[0m\u001b[32m=\u001b[0m\u001b[32mPurePosixPath\u001b[0m\u001b[32m(\u001b[0m\u001b[32m'/home/randi_eka/kedro-introduction/spaceflights/data/01_raw/reviews.csv'\u001b[0m\u001b[32m)\u001b[0m\u001b[32m, \"\u001b[0m\n",
       "            \u001b[32m\"\u001b[0m\u001b[32mprotocol\u001b[0m\u001b[32m='file', \u001b[0m\u001b[32mload_args\u001b[0m\u001b[32m=\u001b[0m\u001b[32m{\u001b[0m\u001b[32m}\u001b[0m\u001b[32m, \u001b[0m\u001b[32msave_args\u001b[0m\u001b[32m=\u001b[0m\u001b[32m{\u001b[0m\u001b[32m'index': False\u001b[0m\u001b[32m}\u001b[0m\u001b[32m)\u001b[0m\u001b[32m\"\u001b[0m,\n",
       " \u001b[32m'shuttles'\u001b[0m: \u001b[32m\"kedro_datasets.pandas.excel_dataset.ExcelDataset\u001b[0m\u001b[32m(\u001b[0m\u001b[32mfilepath\u001b[0m\u001b[32m=\u001b[0m\u001b[32mPurePosixPath\u001b[0m\u001b[32m(\u001b[0m\u001b[32m'/home/randi_eka/kedro-introduction/spaceflights/data/01_raw/shuttles.xlsx'\u001b[0m\u001b[32m)\u001b[0m\u001b[32m, \"\u001b[0m\n",
       "             \u001b[32m\"\u001b[0m\u001b[32mprotocol\u001b[0m\u001b[32m='file', \u001b[0m\u001b[32mload_args\u001b[0m\u001b[32m=\u001b[0m\u001b[32m{\u001b[0m\u001b[32m'engine': 'openpyxl'\u001b[0m\u001b[32m}\u001b[0m\u001b[32m, \"\u001b[0m\n",
       "             \u001b[32m\"\u001b[0m\u001b[32msave_args\u001b[0m\u001b[32m=\u001b[0m\u001b[32m{\u001b[0m\u001b[32m'index': False\u001b[0m\u001b[32m}\u001b[0m\u001b[32m, \u001b[0m\u001b[32mwriter_args\u001b[0m\u001b[32m=\u001b[0m\u001b[32m{\u001b[0m\u001b[32m'engine': 'openpyxl'\u001b[0m\u001b[32m}\u001b[0m\u001b[32m)\u001b[0m\u001b[32m\"\u001b[0m,\n",
       " \u001b[32m'parameters'\u001b[0m: \u001b[32m\"kedro.io.memory_dataset.MemoryDataset\u001b[0m\u001b[32m(\u001b[0m\u001b[32mdata\u001b[0m\u001b[32m='\u001b[0m\u001b[32m<\u001b[0m\u001b[32mdict\u001b[0m\u001b[32m>\u001b[0m\u001b[32m'\u001b[0m\u001b[32m)\u001b[0m\u001b[32m\"\u001b[0m\u001b[1m}\u001b[0m"
      ]
     },
     "execution_count": 2,
     "metadata": {},
     "output_type": "execute_result"
    }
   ],
   "source": [
    "catalog"
   ]
  },
  {
   "cell_type": "code",
   "execution_count": 24,
   "metadata": {},
   "outputs": [],
   "source": [
    "import pandas as pd\n",
    "def _is_true(x: pd.Series) -> pd.Series:\n",
    "    return x==\"t\""
   ]
  },
  {
   "cell_type": "code",
   "execution_count": 36,
   "metadata": {},
   "outputs": [
    {
     "data": {
      "text/html": [
       "<pre style=\"white-space:pre;overflow-x:auto;line-height:normal;font-family:Menlo,'DejaVu Sans Mono',consolas,'Courier New',monospace\"><span style=\"color: #7fbfbf; text-decoration-color: #7fbfbf\">[08/25/24 19:30:40] </span><span style=\"color: #000080; text-decoration-color: #000080\">INFO    </span> Loading data from <span style=\"color: #ff8700; text-decoration-color: #ff8700\">companies</span> <span style=\"font-weight: bold\">(</span>CSVDataset<span style=\"font-weight: bold\">)</span><span style=\"color: #808000; text-decoration-color: #808000\">...</span>                        <a href=\"file:///home/randi_eka/anaconda3/envs/kedro-environment/lib/python3.10/site-packages/kedro/io/data_catalog.py\" target=\"_blank\"><span style=\"color: #7f7f7f; text-decoration-color: #7f7f7f\">data_catalog.py</span></a><span style=\"color: #7f7f7f; text-decoration-color: #7f7f7f\">:</span><a href=\"file:///home/randi_eka/anaconda3/envs/kedro-environment/lib/python3.10/site-packages/kedro/io/data_catalog.py#539\" target=\"_blank\"><span style=\"color: #7f7f7f; text-decoration-color: #7f7f7f\">539</span></a>\n",
       "</pre>\n"
      ],
      "text/plain": [
       "\u001b[2;36m[08/25/24 19:30:40]\u001b[0m\u001b[2;36m \u001b[0m\u001b[34mINFO    \u001b[0m Loading data from \u001b[38;5;208mcompanies\u001b[0m \u001b[1m(\u001b[0mCSVDataset\u001b[1m)\u001b[0m\u001b[33m...\u001b[0m                        \u001b]8;id=155509;file:///home/randi_eka/anaconda3/envs/kedro-environment/lib/python3.10/site-packages/kedro/io/data_catalog.py\u001b\\\u001b[2mdata_catalog.py\u001b[0m\u001b]8;;\u001b\\\u001b[2m:\u001b[0m\u001b]8;id=553475;file:///home/randi_eka/anaconda3/envs/kedro-environment/lib/python3.10/site-packages/kedro/io/data_catalog.py#539\u001b\\\u001b[2m539\u001b[0m\u001b]8;;\u001b\\\n"
      ]
     },
     "metadata": {},
     "output_type": "display_data"
    },
    {
     "data": {
      "text/html": [
       "<pre style=\"white-space:pre;overflow-x:auto;line-height:normal;font-family:Menlo,'DejaVu Sans Mono',consolas,'Courier New',monospace\"></pre>\n"
      ],
      "text/plain": []
     },
     "metadata": {},
     "output_type": "display_data"
    },
    {
     "data": {
      "text/html": [
       "<div>\n",
       "<style scoped>\n",
       "    .dataframe tbody tr th:only-of-type {\n",
       "        vertical-align: middle;\n",
       "    }\n",
       "\n",
       "    .dataframe tbody tr th {\n",
       "        vertical-align: top;\n",
       "    }\n",
       "\n",
       "    .dataframe thead th {\n",
       "        text-align: right;\n",
       "    }\n",
       "</style>\n",
       "<table border=\"1\" class=\"dataframe\">\n",
       "  <thead>\n",
       "    <tr style=\"text-align: right;\">\n",
       "      <th></th>\n",
       "      <th>id</th>\n",
       "      <th>company_rating</th>\n",
       "      <th>company_location</th>\n",
       "      <th>total_fleet_count</th>\n",
       "      <th>iata_approved</th>\n",
       "    </tr>\n",
       "  </thead>\n",
       "  <tbody>\n",
       "    <tr>\n",
       "      <th>0</th>\n",
       "      <td>3888</td>\n",
       "      <td>100%</td>\n",
       "      <td>Isle of Man</td>\n",
       "      <td>1.0</td>\n",
       "      <td>f</td>\n",
       "    </tr>\n",
       "    <tr>\n",
       "      <th>1</th>\n",
       "      <td>46728</td>\n",
       "      <td>100%</td>\n",
       "      <td>NaN</td>\n",
       "      <td>1.0</td>\n",
       "      <td>f</td>\n",
       "    </tr>\n",
       "    <tr>\n",
       "      <th>2</th>\n",
       "      <td>34618</td>\n",
       "      <td>38%</td>\n",
       "      <td>Isle of Man</td>\n",
       "      <td>1.0</td>\n",
       "      <td>f</td>\n",
       "    </tr>\n",
       "    <tr>\n",
       "      <th>3</th>\n",
       "      <td>28619</td>\n",
       "      <td>100%</td>\n",
       "      <td>Bosnia and Herzegovina</td>\n",
       "      <td>1.0</td>\n",
       "      <td>f</td>\n",
       "    </tr>\n",
       "    <tr>\n",
       "      <th>4</th>\n",
       "      <td>8240</td>\n",
       "      <td>NaN</td>\n",
       "      <td>Chile</td>\n",
       "      <td>1.0</td>\n",
       "      <td>t</td>\n",
       "    </tr>\n",
       "  </tbody>\n",
       "</table>\n",
       "</div>"
      ],
      "text/plain": [
       "\n",
       "      id company_rating        company_location  total_fleet_count  \\\n",
       "\u001b[1;36m0\u001b[0m   \u001b[1;36m3888\u001b[0m           \u001b[1;36m100\u001b[0m%             Isle of Man                \u001b[1;36m1.0\u001b[0m   \n",
       "\u001b[1;36m1\u001b[0m  \u001b[1;36m46728\u001b[0m           \u001b[1;36m100\u001b[0m%                     NaN                \u001b[1;36m1.0\u001b[0m   \n",
       "\u001b[1;36m2\u001b[0m  \u001b[1;36m34618\u001b[0m            \u001b[1;36m38\u001b[0m%             Isle of Man                \u001b[1;36m1.0\u001b[0m   \n",
       "\u001b[1;36m3\u001b[0m  \u001b[1;36m28619\u001b[0m           \u001b[1;36m100\u001b[0m%  Bosnia and Herzegovina                \u001b[1;36m1.0\u001b[0m   \n",
       "\u001b[1;36m4\u001b[0m   \u001b[1;36m8240\u001b[0m            NaN                   Chile                \u001b[1;36m1.0\u001b[0m   \n",
       "\n",
       "  iata_approved  \n",
       "\u001b[1;36m0\u001b[0m             f  \n",
       "\u001b[1;36m1\u001b[0m             f  \n",
       "\u001b[1;36m2\u001b[0m             f  \n",
       "\u001b[1;36m3\u001b[0m             f  \n",
       "\u001b[1;36m4\u001b[0m             t  "
      ]
     },
     "execution_count": 36,
     "metadata": {},
     "output_type": "execute_result"
    }
   ],
   "source": [
    "companies = catalog.load(\"companies\")\n",
    "companies.head()"
   ]
  },
  {
   "cell_type": "code",
   "execution_count": 37,
   "metadata": {},
   "outputs": [
    {
     "data": {
      "text/html": [
       "<pre style=\"white-space:pre;overflow-x:auto;line-height:normal;font-family:Menlo,'DejaVu Sans Mono',consolas,'Courier New',monospace\"></pre>\n"
      ],
      "text/plain": []
     },
     "metadata": {},
     "output_type": "display_data"
    },
    {
     "data": {
      "text/plain": [
       "\n",
       "id                     int64\n",
       "company_rating        object\n",
       "company_location      object\n",
       "total_fleet_count    float64\n",
       "iata_approved         object\n",
       "dtype: object"
      ]
     },
     "execution_count": 37,
     "metadata": {},
     "output_type": "execute_result"
    }
   ],
   "source": [
    "companies.dtypes"
   ]
  },
  {
   "cell_type": "code",
   "execution_count": 38,
   "metadata": {},
   "outputs": [],
   "source": [
    "companies[\"iata_approved\"] = _is_true(companies['iata_approved'])"
   ]
  },
  {
   "cell_type": "code",
   "execution_count": 39,
   "metadata": {},
   "outputs": [
    {
     "data": {
      "text/html": [
       "<pre style=\"white-space:pre;overflow-x:auto;line-height:normal;font-family:Menlo,'DejaVu Sans Mono',consolas,'Courier New',monospace\"></pre>\n"
      ],
      "text/plain": []
     },
     "metadata": {},
     "output_type": "display_data"
    },
    {
     "data": {
      "text/html": [
       "<div>\n",
       "<style scoped>\n",
       "    .dataframe tbody tr th:only-of-type {\n",
       "        vertical-align: middle;\n",
       "    }\n",
       "\n",
       "    .dataframe tbody tr th {\n",
       "        vertical-align: top;\n",
       "    }\n",
       "\n",
       "    .dataframe thead th {\n",
       "        text-align: right;\n",
       "    }\n",
       "</style>\n",
       "<table border=\"1\" class=\"dataframe\">\n",
       "  <thead>\n",
       "    <tr style=\"text-align: right;\">\n",
       "      <th></th>\n",
       "      <th>id</th>\n",
       "      <th>company_rating</th>\n",
       "      <th>company_location</th>\n",
       "      <th>total_fleet_count</th>\n",
       "      <th>iata_approved</th>\n",
       "    </tr>\n",
       "  </thead>\n",
       "  <tbody>\n",
       "    <tr>\n",
       "      <th>0</th>\n",
       "      <td>3888</td>\n",
       "      <td>100%</td>\n",
       "      <td>Isle of Man</td>\n",
       "      <td>1.0</td>\n",
       "      <td>False</td>\n",
       "    </tr>\n",
       "    <tr>\n",
       "      <th>1</th>\n",
       "      <td>46728</td>\n",
       "      <td>100%</td>\n",
       "      <td>NaN</td>\n",
       "      <td>1.0</td>\n",
       "      <td>False</td>\n",
       "    </tr>\n",
       "    <tr>\n",
       "      <th>2</th>\n",
       "      <td>34618</td>\n",
       "      <td>38%</td>\n",
       "      <td>Isle of Man</td>\n",
       "      <td>1.0</td>\n",
       "      <td>False</td>\n",
       "    </tr>\n",
       "    <tr>\n",
       "      <th>3</th>\n",
       "      <td>28619</td>\n",
       "      <td>100%</td>\n",
       "      <td>Bosnia and Herzegovina</td>\n",
       "      <td>1.0</td>\n",
       "      <td>False</td>\n",
       "    </tr>\n",
       "    <tr>\n",
       "      <th>4</th>\n",
       "      <td>8240</td>\n",
       "      <td>NaN</td>\n",
       "      <td>Chile</td>\n",
       "      <td>1.0</td>\n",
       "      <td>True</td>\n",
       "    </tr>\n",
       "  </tbody>\n",
       "</table>\n",
       "</div>"
      ],
      "text/plain": [
       "\n",
       "      id company_rating        company_location  total_fleet_count  \\\n",
       "\u001b[1;36m0\u001b[0m   \u001b[1;36m3888\u001b[0m           \u001b[1;36m100\u001b[0m%             Isle of Man                \u001b[1;36m1.0\u001b[0m   \n",
       "\u001b[1;36m1\u001b[0m  \u001b[1;36m46728\u001b[0m           \u001b[1;36m100\u001b[0m%                     NaN                \u001b[1;36m1.0\u001b[0m   \n",
       "\u001b[1;36m2\u001b[0m  \u001b[1;36m34618\u001b[0m            \u001b[1;36m38\u001b[0m%             Isle of Man                \u001b[1;36m1.0\u001b[0m   \n",
       "\u001b[1;36m3\u001b[0m  \u001b[1;36m28619\u001b[0m           \u001b[1;36m100\u001b[0m%  Bosnia and Herzegovina                \u001b[1;36m1.0\u001b[0m   \n",
       "\u001b[1;36m4\u001b[0m   \u001b[1;36m8240\u001b[0m            NaN                   Chile                \u001b[1;36m1.0\u001b[0m   \n",
       "\n",
       "   iata_approved  \n",
       "\u001b[1;36m0\u001b[0m          \u001b[3;91mFalse\u001b[0m  \n",
       "\u001b[1;36m1\u001b[0m          \u001b[3;91mFalse\u001b[0m  \n",
       "\u001b[1;36m2\u001b[0m          \u001b[3;91mFalse\u001b[0m  \n",
       "\u001b[1;36m3\u001b[0m          \u001b[3;91mFalse\u001b[0m  \n",
       "\u001b[1;36m4\u001b[0m           \u001b[3;92mTrue\u001b[0m  "
      ]
     },
     "execution_count": 39,
     "metadata": {},
     "output_type": "execute_result"
    }
   ],
   "source": [
    "companies.head()"
   ]
  },
  {
   "cell_type": "code",
   "execution_count": 40,
   "metadata": {},
   "outputs": [
    {
     "data": {
      "text/html": [
       "<pre style=\"white-space:pre;overflow-x:auto;line-height:normal;font-family:Menlo,'DejaVu Sans Mono',consolas,'Courier New',monospace\"></pre>\n"
      ],
      "text/plain": []
     },
     "metadata": {},
     "output_type": "display_data"
    },
    {
     "data": {
      "text/plain": [
       "\n",
       "id                     int64\n",
       "company_rating        object\n",
       "company_location      object\n",
       "total_fleet_count    float64\n",
       "iata_approved           bool\n",
       "dtype: object"
      ]
     },
     "execution_count": 40,
     "metadata": {},
     "output_type": "execute_result"
    }
   ],
   "source": [
    "companies.dtypes"
   ]
  },
  {
   "cell_type": "code",
   "execution_count": 41,
   "metadata": {},
   "outputs": [],
   "source": [
    "def _parse_percentage(x: pd.Series)-> pd.Series:\n",
    "    return x.str.replace(\"%\",\"\").astype(float)"
   ]
  },
  {
   "cell_type": "code",
   "execution_count": 42,
   "metadata": {},
   "outputs": [],
   "source": [
    "companies[\"company_rating\"] = _parse_percentage(companies[\"company_rating\"])"
   ]
  },
  {
   "cell_type": "code",
   "execution_count": 43,
   "metadata": {},
   "outputs": [
    {
     "name": "stdout",
     "output_type": "stream",
     "text": [
      "      id  company_rating        company_location  total_fleet_count  \\\n",
      "0   3888           100.0             Isle of Man                1.0   \n",
      "1  46728           100.0                     NaN                1.0   \n",
      "2  34618            38.0             Isle of Man                1.0   \n",
      "3  28619           100.0  Bosnia and Herzegovina                1.0   \n",
      "4   8240             NaN                   Chile                1.0   \n",
      "\n",
      "   iata_approved  \n",
      "0          False  \n",
      "1          False  \n",
      "2          False  \n",
      "3          False  \n",
      "4           True  \n"
     ]
    },
    {
     "data": {
      "text/html": [
       "<pre style=\"white-space:pre;overflow-x:auto;line-height:normal;font-family:Menlo,'DejaVu Sans Mono',consolas,'Courier New',monospace\"></pre>\n"
      ],
      "text/plain": []
     },
     "metadata": {},
     "output_type": "display_data"
    },
    {
     "data": {
      "text/plain": [
       "\n",
       "id                     int64\n",
       "company_rating       float64\n",
       "company_location      object\n",
       "total_fleet_count    float64\n",
       "iata_approved           bool\n",
       "dtype: object"
      ]
     },
     "execution_count": 43,
     "metadata": {},
     "output_type": "execute_result"
    }
   ],
   "source": [
    "print(companies.head())\n",
    "companies.dtypes"
   ]
  },
  {
   "cell_type": "code",
   "execution_count": 45,
   "metadata": {},
   "outputs": [
    {
     "data": {
      "text/html": [
       "<pre style=\"white-space:pre;overflow-x:auto;line-height:normal;font-family:Menlo,'DejaVu Sans Mono',consolas,'Courier New',monospace\"><span style=\"color: #7fbfbf; text-decoration-color: #7fbfbf\">[08/25/24 19:31:46] </span><span style=\"color: #000080; text-decoration-color: #000080\">INFO    </span> Loading data from <span style=\"color: #ff8700; text-decoration-color: #ff8700\">shuttles</span> <span style=\"font-weight: bold\">(</span>ExcelDataset<span style=\"font-weight: bold\">)</span><span style=\"color: #808000; text-decoration-color: #808000\">...</span>                       <a href=\"file:///home/randi_eka/anaconda3/envs/kedro-environment/lib/python3.10/site-packages/kedro/io/data_catalog.py\" target=\"_blank\"><span style=\"color: #7f7f7f; text-decoration-color: #7f7f7f\">data_catalog.py</span></a><span style=\"color: #7f7f7f; text-decoration-color: #7f7f7f\">:</span><a href=\"file:///home/randi_eka/anaconda3/envs/kedro-environment/lib/python3.10/site-packages/kedro/io/data_catalog.py#539\" target=\"_blank\"><span style=\"color: #7f7f7f; text-decoration-color: #7f7f7f\">539</span></a>\n",
       "</pre>\n"
      ],
      "text/plain": [
       "\u001b[2;36m[08/25/24 19:31:46]\u001b[0m\u001b[2;36m \u001b[0m\u001b[34mINFO    \u001b[0m Loading data from \u001b[38;5;208mshuttles\u001b[0m \u001b[1m(\u001b[0mExcelDataset\u001b[1m)\u001b[0m\u001b[33m...\u001b[0m                       \u001b]8;id=231824;file:///home/randi_eka/anaconda3/envs/kedro-environment/lib/python3.10/site-packages/kedro/io/data_catalog.py\u001b\\\u001b[2mdata_catalog.py\u001b[0m\u001b]8;;\u001b\\\u001b[2m:\u001b[0m\u001b]8;id=933784;file:///home/randi_eka/anaconda3/envs/kedro-environment/lib/python3.10/site-packages/kedro/io/data_catalog.py#539\u001b\\\u001b[2m539\u001b[0m\u001b]8;;\u001b\\\n"
      ]
     },
     "metadata": {},
     "output_type": "display_data"
    }
   ],
   "source": [
    "shuttles = catalog.load(\"shuttles\")"
   ]
  },
  {
   "cell_type": "code",
   "execution_count": 46,
   "metadata": {},
   "outputs": [
    {
     "data": {
      "text/html": [
       "<pre style=\"white-space:pre;overflow-x:auto;line-height:normal;font-family:Menlo,'DejaVu Sans Mono',consolas,'Courier New',monospace\"></pre>\n"
      ],
      "text/plain": []
     },
     "metadata": {},
     "output_type": "display_data"
    },
    {
     "data": {
      "text/html": [
       "<div>\n",
       "<style scoped>\n",
       "    .dataframe tbody tr th:only-of-type {\n",
       "        vertical-align: middle;\n",
       "    }\n",
       "\n",
       "    .dataframe tbody tr th {\n",
       "        vertical-align: top;\n",
       "    }\n",
       "\n",
       "    .dataframe thead th {\n",
       "        text-align: right;\n",
       "    }\n",
       "</style>\n",
       "<table border=\"1\" class=\"dataframe\">\n",
       "  <thead>\n",
       "    <tr style=\"text-align: right;\">\n",
       "      <th></th>\n",
       "      <th>id</th>\n",
       "      <th>shuttle_location</th>\n",
       "      <th>shuttle_type</th>\n",
       "      <th>engine_type</th>\n",
       "      <th>engine_vendor</th>\n",
       "      <th>engines</th>\n",
       "      <th>passenger_capacity</th>\n",
       "      <th>cancellation_policy</th>\n",
       "      <th>crew</th>\n",
       "      <th>d_check_complete</th>\n",
       "      <th>moon_clearance_complete</th>\n",
       "      <th>price</th>\n",
       "      <th>company_id</th>\n",
       "    </tr>\n",
       "  </thead>\n",
       "  <tbody>\n",
       "    <tr>\n",
       "      <th>0</th>\n",
       "      <td>45163</td>\n",
       "      <td>Sao Tome and Principe</td>\n",
       "      <td>Type V5</td>\n",
       "      <td>Plasma</td>\n",
       "      <td>ThetaBase Services</td>\n",
       "      <td>2.0</td>\n",
       "      <td>4</td>\n",
       "      <td>moderate</td>\n",
       "      <td>2.0</td>\n",
       "      <td>f</td>\n",
       "      <td>f</td>\n",
       "      <td>$1,715.0</td>\n",
       "      <td>32413</td>\n",
       "    </tr>\n",
       "    <tr>\n",
       "      <th>1</th>\n",
       "      <td>49438</td>\n",
       "      <td>Wallis and Futuna</td>\n",
       "      <td>Type V2</td>\n",
       "      <td>Plasma</td>\n",
       "      <td>ThetaBase Services</td>\n",
       "      <td>3.0</td>\n",
       "      <td>5</td>\n",
       "      <td>moderate</td>\n",
       "      <td>3.0</td>\n",
       "      <td>f</td>\n",
       "      <td>f</td>\n",
       "      <td>$3,405.0</td>\n",
       "      <td>14122</td>\n",
       "    </tr>\n",
       "    <tr>\n",
       "      <th>2</th>\n",
       "      <td>10750</td>\n",
       "      <td>Niue</td>\n",
       "      <td>Type F5</td>\n",
       "      <td>Quantum</td>\n",
       "      <td>ThetaBase Services</td>\n",
       "      <td>1.0</td>\n",
       "      <td>2</td>\n",
       "      <td>strict</td>\n",
       "      <td>1.0</td>\n",
       "      <td>t</td>\n",
       "      <td>f</td>\n",
       "      <td>$1,806.0</td>\n",
       "      <td>47761</td>\n",
       "    </tr>\n",
       "    <tr>\n",
       "      <th>3</th>\n",
       "      <td>4146</td>\n",
       "      <td>Malta</td>\n",
       "      <td>Type V2</td>\n",
       "      <td>Quantum</td>\n",
       "      <td>ThetaBase Services</td>\n",
       "      <td>1.0</td>\n",
       "      <td>2</td>\n",
       "      <td>moderate</td>\n",
       "      <td>1.0</td>\n",
       "      <td>f</td>\n",
       "      <td>f</td>\n",
       "      <td>$1,676.0</td>\n",
       "      <td>26648</td>\n",
       "    </tr>\n",
       "    <tr>\n",
       "      <th>4</th>\n",
       "      <td>5067</td>\n",
       "      <td>Malta</td>\n",
       "      <td>Type V2</td>\n",
       "      <td>Plasma</td>\n",
       "      <td>ThetaBase Services</td>\n",
       "      <td>5.0</td>\n",
       "      <td>10</td>\n",
       "      <td>strict</td>\n",
       "      <td>5.0</td>\n",
       "      <td>f</td>\n",
       "      <td>f</td>\n",
       "      <td>$4,718.0</td>\n",
       "      <td>26648</td>\n",
       "    </tr>\n",
       "  </tbody>\n",
       "</table>\n",
       "</div>"
      ],
      "text/plain": [
       "\n",
       "      id       shuttle_location shuttle_type engine_type       engine_vendor  \\\n",
       "\u001b[1;36m0\u001b[0m  \u001b[1;36m45163\u001b[0m  Sao Tome and Principe      Type V5      Plasma  ThetaBase Services   \n",
       "\u001b[1;36m1\u001b[0m  \u001b[1;36m49438\u001b[0m      Wallis and Futuna      Type V2      Plasma  ThetaBase Services   \n",
       "\u001b[1;36m2\u001b[0m  \u001b[1;36m10750\u001b[0m                   Niue      Type F5     Quantum  ThetaBase Services   \n",
       "\u001b[1;36m3\u001b[0m   \u001b[1;36m4146\u001b[0m                  Malta      Type V2     Quantum  ThetaBase Services   \n",
       "\u001b[1;36m4\u001b[0m   \u001b[1;36m5067\u001b[0m                  Malta      Type V2      Plasma  ThetaBase Services   \n",
       "\n",
       "   engines  passenger_capacity cancellation_policy  crew d_check_complete  \\\n",
       "\u001b[1;36m0\u001b[0m      \u001b[1;36m2.0\u001b[0m                   \u001b[1;36m4\u001b[0m            moderate   \u001b[1;36m2.0\u001b[0m                f   \n",
       "\u001b[1;36m1\u001b[0m      \u001b[1;36m3.0\u001b[0m                   \u001b[1;36m5\u001b[0m            moderate   \u001b[1;36m3.0\u001b[0m                f   \n",
       "\u001b[1;36m2\u001b[0m      \u001b[1;36m1.0\u001b[0m                   \u001b[1;36m2\u001b[0m              strict   \u001b[1;36m1.0\u001b[0m                t   \n",
       "\u001b[1;36m3\u001b[0m      \u001b[1;36m1.0\u001b[0m                   \u001b[1;36m2\u001b[0m            moderate   \u001b[1;36m1.0\u001b[0m                f   \n",
       "\u001b[1;36m4\u001b[0m      \u001b[1;36m5.0\u001b[0m                  \u001b[1;36m10\u001b[0m              strict   \u001b[1;36m5.0\u001b[0m                f   \n",
       "\n",
       "  moon_clearance_complete     price  company_id  \n",
       "\u001b[1;36m0\u001b[0m                       f  $\u001b[1;36m1\u001b[0m,\u001b[1;36m715.0\u001b[0m       \u001b[1;36m32413\u001b[0m  \n",
       "\u001b[1;36m1\u001b[0m                       f  $\u001b[1;36m3\u001b[0m,\u001b[1;36m405.0\u001b[0m       \u001b[1;36m14122\u001b[0m  \n",
       "\u001b[1;36m2\u001b[0m                       f  $\u001b[1;36m1\u001b[0m,\u001b[1;36m806.0\u001b[0m       \u001b[1;36m47761\u001b[0m  \n",
       "\u001b[1;36m3\u001b[0m                       f  $\u001b[1;36m1\u001b[0m,\u001b[1;36m676.0\u001b[0m       \u001b[1;36m26648\u001b[0m  \n",
       "\u001b[1;36m4\u001b[0m                       f  $\u001b[1;36m4\u001b[0m,\u001b[1;36m718.0\u001b[0m       \u001b[1;36m26648\u001b[0m  "
      ]
     },
     "execution_count": 46,
     "metadata": {},
     "output_type": "execute_result"
    }
   ],
   "source": [
    "shuttles.head()"
   ]
  },
  {
   "cell_type": "code",
   "execution_count": 47,
   "metadata": {},
   "outputs": [
    {
     "data": {
      "text/html": [
       "<pre style=\"white-space:pre;overflow-x:auto;line-height:normal;font-family:Menlo,'DejaVu Sans Mono',consolas,'Courier New',monospace\"></pre>\n"
      ],
      "text/plain": []
     },
     "metadata": {},
     "output_type": "display_data"
    },
    {
     "data": {
      "text/plain": [
       "\n",
       "id                           int64\n",
       "shuttle_location            object\n",
       "shuttle_type                object\n",
       "engine_type                 object\n",
       "engine_vendor               object\n",
       "engines                    float64\n",
       "passenger_capacity           int64\n",
       "cancellation_policy         object\n",
       "crew                       float64\n",
       "d_check_complete            object\n",
       "moon_clearance_complete     object\n",
       "price                       object\n",
       "company_id                   int64\n",
       "dtype: object"
      ]
     },
     "execution_count": 47,
     "metadata": {},
     "output_type": "execute_result"
    }
   ],
   "source": [
    "shuttles.dtypes"
   ]
  },
  {
   "cell_type": "code",
   "execution_count": 48,
   "metadata": {},
   "outputs": [
    {
     "data": {
      "text/html": [
       "<pre style=\"white-space:pre;overflow-x:auto;line-height:normal;font-family:Menlo,'DejaVu Sans Mono',consolas,'Courier New',monospace\"></pre>\n"
      ],
      "text/plain": []
     },
     "metadata": {},
     "output_type": "display_data"
    },
    {
     "data": {
      "text/html": [
       "<div>\n",
       "<style scoped>\n",
       "    .dataframe tbody tr th:only-of-type {\n",
       "        vertical-align: middle;\n",
       "    }\n",
       "\n",
       "    .dataframe tbody tr th {\n",
       "        vertical-align: top;\n",
       "    }\n",
       "\n",
       "    .dataframe thead th {\n",
       "        text-align: right;\n",
       "    }\n",
       "</style>\n",
       "<table border=\"1\" class=\"dataframe\">\n",
       "  <thead>\n",
       "    <tr style=\"text-align: right;\">\n",
       "      <th></th>\n",
       "      <th>engines</th>\n",
       "      <th>passenger_capacity</th>\n",
       "      <th>cancellation_policy</th>\n",
       "      <th>crew</th>\n",
       "      <th>d_check_complete</th>\n",
       "      <th>moon_clearance_complete</th>\n",
       "      <th>price</th>\n",
       "      <th>company_id</th>\n",
       "    </tr>\n",
       "  </thead>\n",
       "  <tbody>\n",
       "    <tr>\n",
       "      <th>0</th>\n",
       "      <td>2.0</td>\n",
       "      <td>4</td>\n",
       "      <td>moderate</td>\n",
       "      <td>2.0</td>\n",
       "      <td>f</td>\n",
       "      <td>f</td>\n",
       "      <td>$1,715.0</td>\n",
       "      <td>32413</td>\n",
       "    </tr>\n",
       "    <tr>\n",
       "      <th>1</th>\n",
       "      <td>3.0</td>\n",
       "      <td>5</td>\n",
       "      <td>moderate</td>\n",
       "      <td>3.0</td>\n",
       "      <td>f</td>\n",
       "      <td>f</td>\n",
       "      <td>$3,405.0</td>\n",
       "      <td>14122</td>\n",
       "    </tr>\n",
       "    <tr>\n",
       "      <th>2</th>\n",
       "      <td>1.0</td>\n",
       "      <td>2</td>\n",
       "      <td>strict</td>\n",
       "      <td>1.0</td>\n",
       "      <td>t</td>\n",
       "      <td>f</td>\n",
       "      <td>$1,806.0</td>\n",
       "      <td>47761</td>\n",
       "    </tr>\n",
       "    <tr>\n",
       "      <th>3</th>\n",
       "      <td>1.0</td>\n",
       "      <td>2</td>\n",
       "      <td>moderate</td>\n",
       "      <td>1.0</td>\n",
       "      <td>f</td>\n",
       "      <td>f</td>\n",
       "      <td>$1,676.0</td>\n",
       "      <td>26648</td>\n",
       "    </tr>\n",
       "    <tr>\n",
       "      <th>4</th>\n",
       "      <td>5.0</td>\n",
       "      <td>10</td>\n",
       "      <td>strict</td>\n",
       "      <td>5.0</td>\n",
       "      <td>f</td>\n",
       "      <td>f</td>\n",
       "      <td>$4,718.0</td>\n",
       "      <td>26648</td>\n",
       "    </tr>\n",
       "    <tr>\n",
       "      <th>...</th>\n",
       "      <td>...</td>\n",
       "      <td>...</td>\n",
       "      <td>...</td>\n",
       "      <td>...</td>\n",
       "      <td>...</td>\n",
       "      <td>...</td>\n",
       "      <td>...</td>\n",
       "      <td>...</td>\n",
       "    </tr>\n",
       "    <tr>\n",
       "      <th>15526</th>\n",
       "      <td>1.0</td>\n",
       "      <td>2</td>\n",
       "      <td>flexible</td>\n",
       "      <td>1.0</td>\n",
       "      <td>t</td>\n",
       "      <td>f</td>\n",
       "      <td>$2,040.0</td>\n",
       "      <td>5816</td>\n",
       "    </tr>\n",
       "    <tr>\n",
       "      <th>15527</th>\n",
       "      <td>1.0</td>\n",
       "      <td>1</td>\n",
       "      <td>strict</td>\n",
       "      <td>1.0</td>\n",
       "      <td>t</td>\n",
       "      <td>f</td>\n",
       "      <td>$1,260.0</td>\n",
       "      <td>19010</td>\n",
       "    </tr>\n",
       "    <tr>\n",
       "      <th>15528</th>\n",
       "      <td>2.0</td>\n",
       "      <td>4</td>\n",
       "      <td>flexible</td>\n",
       "      <td>2.0</td>\n",
       "      <td>t</td>\n",
       "      <td>f</td>\n",
       "      <td>$4,107.0</td>\n",
       "      <td>6654</td>\n",
       "    </tr>\n",
       "    <tr>\n",
       "      <th>15529</th>\n",
       "      <td>1.0</td>\n",
       "      <td>2</td>\n",
       "      <td>flexible</td>\n",
       "      <td>1.0</td>\n",
       "      <td>t</td>\n",
       "      <td>f</td>\n",
       "      <td>$2,170.0</td>\n",
       "      <td>27363</td>\n",
       "    </tr>\n",
       "    <tr>\n",
       "      <th>15530</th>\n",
       "      <td>0.0</td>\n",
       "      <td>2</td>\n",
       "      <td>moderate</td>\n",
       "      <td>2.0</td>\n",
       "      <td>t</td>\n",
       "      <td>f</td>\n",
       "      <td>$1,455.0</td>\n",
       "      <td>12542</td>\n",
       "    </tr>\n",
       "  </tbody>\n",
       "</table>\n",
       "<p>15531 rows × 8 columns</p>\n",
       "</div>"
      ],
      "text/plain": [
       "\n",
       "       engines  passenger_capacity cancellation_policy  crew d_check_complete  \\\n",
       "\u001b[1;36m0\u001b[0m          \u001b[1;36m2.0\u001b[0m                   \u001b[1;36m4\u001b[0m            moderate   \u001b[1;36m2.0\u001b[0m                f   \n",
       "\u001b[1;36m1\u001b[0m          \u001b[1;36m3.0\u001b[0m                   \u001b[1;36m5\u001b[0m            moderate   \u001b[1;36m3.0\u001b[0m                f   \n",
       "\u001b[1;36m2\u001b[0m          \u001b[1;36m1.0\u001b[0m                   \u001b[1;36m2\u001b[0m              strict   \u001b[1;36m1.0\u001b[0m                t   \n",
       "\u001b[1;36m3\u001b[0m          \u001b[1;36m1.0\u001b[0m                   \u001b[1;36m2\u001b[0m            moderate   \u001b[1;36m1.0\u001b[0m                f   \n",
       "\u001b[1;36m4\u001b[0m          \u001b[1;36m5.0\u001b[0m                  \u001b[1;36m10\u001b[0m              strict   \u001b[1;36m5.0\u001b[0m                f   \n",
       "\u001b[33m...\u001b[0m        \u001b[33m...\u001b[0m                 \u001b[33m...\u001b[0m                 \u001b[33m...\u001b[0m   \u001b[33m...\u001b[0m              \u001b[33m...\u001b[0m   \n",
       "\u001b[1;36m15526\u001b[0m      \u001b[1;36m1.0\u001b[0m                   \u001b[1;36m2\u001b[0m            flexible   \u001b[1;36m1.0\u001b[0m                t   \n",
       "\u001b[1;36m15527\u001b[0m      \u001b[1;36m1.0\u001b[0m                   \u001b[1;36m1\u001b[0m              strict   \u001b[1;36m1.0\u001b[0m                t   \n",
       "\u001b[1;36m15528\u001b[0m      \u001b[1;36m2.0\u001b[0m                   \u001b[1;36m4\u001b[0m            flexible   \u001b[1;36m2.0\u001b[0m                t   \n",
       "\u001b[1;36m15529\u001b[0m      \u001b[1;36m1.0\u001b[0m                   \u001b[1;36m2\u001b[0m            flexible   \u001b[1;36m1.0\u001b[0m                t   \n",
       "\u001b[1;36m15530\u001b[0m      \u001b[1;36m0.0\u001b[0m                   \u001b[1;36m2\u001b[0m            moderate   \u001b[1;36m2.0\u001b[0m                t   \n",
       "\n",
       "      moon_clearance_complete     price  company_id  \n",
       "\u001b[1;36m0\u001b[0m                           f  $\u001b[1;36m1\u001b[0m,\u001b[1;36m715.0\u001b[0m       \u001b[1;36m32413\u001b[0m  \n",
       "\u001b[1;36m1\u001b[0m                           f  $\u001b[1;36m3\u001b[0m,\u001b[1;36m405.0\u001b[0m       \u001b[1;36m14122\u001b[0m  \n",
       "\u001b[1;36m2\u001b[0m                           f  $\u001b[1;36m1\u001b[0m,\u001b[1;36m806.0\u001b[0m       \u001b[1;36m47761\u001b[0m  \n",
       "\u001b[1;36m3\u001b[0m                           f  $\u001b[1;36m1\u001b[0m,\u001b[1;36m676.0\u001b[0m       \u001b[1;36m26648\u001b[0m  \n",
       "\u001b[1;36m4\u001b[0m                           f  $\u001b[1;36m4\u001b[0m,\u001b[1;36m718.0\u001b[0m       \u001b[1;36m26648\u001b[0m  \n",
       "\u001b[33m...\u001b[0m                       \u001b[33m...\u001b[0m       \u001b[33m...\u001b[0m         \u001b[33m...\u001b[0m  \n",
       "\u001b[1;36m15526\u001b[0m                       f  $\u001b[1;36m2\u001b[0m,\u001b[1;36m040.0\u001b[0m        \u001b[1;36m5816\u001b[0m  \n",
       "\u001b[1;36m15527\u001b[0m                       f  $\u001b[1;36m1\u001b[0m,\u001b[1;36m260.0\u001b[0m       \u001b[1;36m19010\u001b[0m  \n",
       "\u001b[1;36m15528\u001b[0m                       f  $\u001b[1;36m4\u001b[0m,\u001b[1;36m107.0\u001b[0m        \u001b[1;36m6654\u001b[0m  \n",
       "\u001b[1;36m15529\u001b[0m                       f  $\u001b[1;36m2\u001b[0m,\u001b[1;36m170.0\u001b[0m       \u001b[1;36m27363\u001b[0m  \n",
       "\u001b[1;36m15530\u001b[0m                       f  $\u001b[1;36m1\u001b[0m,\u001b[1;36m455.0\u001b[0m       \u001b[1;36m12542\u001b[0m  \n",
       "\n",
       "\u001b[1m[\u001b[0m\u001b[1;36m15531\u001b[0m rows x \u001b[1;36m8\u001b[0m columns\u001b[1m]\u001b[0m"
      ]
     },
     "execution_count": 48,
     "metadata": {},
     "output_type": "execute_result"
    }
   ],
   "source": [
    "shuttles.iloc[:, 5:]"
   ]
  },
  {
   "cell_type": "code",
   "execution_count": 49,
   "metadata": {},
   "outputs": [],
   "source": [
    "shuttles[\"d_check_complete\"] = _is_true(shuttles[\"d_check_complete\"])\n",
    "shuttles[\"moon_clearance_complete\"] = _is_true(shuttles[\"moon_clearance_complete\"])"
   ]
  },
  {
   "cell_type": "code",
   "execution_count": 50,
   "metadata": {},
   "outputs": [],
   "source": [
    "def _parse_money(x: pd.Series)-> pd.Series:\n",
    "    return x.str.replace(\"$\", \"\").str.replace(\",\", \"\").astype(float)"
   ]
  },
  {
   "cell_type": "code",
   "execution_count": 51,
   "metadata": {},
   "outputs": [],
   "source": [
    "shuttles[\"price\"] = _parse_money(shuttles[\"price\"])"
   ]
  },
  {
   "cell_type": "code",
   "execution_count": 52,
   "metadata": {},
   "outputs": [
    {
     "data": {
      "text/html": [
       "<pre style=\"white-space:pre;overflow-x:auto;line-height:normal;font-family:Menlo,'DejaVu Sans Mono',consolas,'Courier New',monospace\"></pre>\n"
      ],
      "text/plain": []
     },
     "metadata": {},
     "output_type": "display_data"
    },
    {
     "data": {
      "text/plain": [
       "\n",
       "id                           int64\n",
       "shuttle_location            object\n",
       "shuttle_type                object\n",
       "engine_type                 object\n",
       "engine_vendor               object\n",
       "engines                    float64\n",
       "passenger_capacity           int64\n",
       "cancellation_policy         object\n",
       "crew                       float64\n",
       "d_check_complete              bool\n",
       "moon_clearance_complete       bool\n",
       "price                      float64\n",
       "company_id                   int64\n",
       "dtype: object"
      ]
     },
     "execution_count": 52,
     "metadata": {},
     "output_type": "execute_result"
    }
   ],
   "source": [
    "shuttles.dtypes"
   ]
  },
  {
   "cell_type": "code",
   "execution_count": 56,
   "metadata": {},
   "outputs": [
    {
     "data": {
      "text/html": [
       "<pre style=\"white-space:pre;overflow-x:auto;line-height:normal;font-family:Menlo,'DejaVu Sans Mono',consolas,'Courier New',monospace\"></pre>\n"
      ],
      "text/plain": []
     },
     "metadata": {},
     "output_type": "display_data"
    },
    {
     "data": {
      "text/html": [
       "<div>\n",
       "<style scoped>\n",
       "    .dataframe tbody tr th:only-of-type {\n",
       "        vertical-align: middle;\n",
       "    }\n",
       "\n",
       "    .dataframe tbody tr th {\n",
       "        vertical-align: top;\n",
       "    }\n",
       "\n",
       "    .dataframe thead th {\n",
       "        text-align: right;\n",
       "    }\n",
       "</style>\n",
       "<table border=\"1\" class=\"dataframe\">\n",
       "  <thead>\n",
       "    <tr style=\"text-align: right;\">\n",
       "      <th></th>\n",
       "      <th>engines</th>\n",
       "      <th>passenger_capacity</th>\n",
       "      <th>cancellation_policy</th>\n",
       "      <th>crew</th>\n",
       "      <th>d_check_complete</th>\n",
       "      <th>moon_clearance_complete</th>\n",
       "      <th>price</th>\n",
       "      <th>company_id</th>\n",
       "    </tr>\n",
       "  </thead>\n",
       "  <tbody>\n",
       "    <tr>\n",
       "      <th>0</th>\n",
       "      <td>2.0</td>\n",
       "      <td>4</td>\n",
       "      <td>moderate</td>\n",
       "      <td>2.0</td>\n",
       "      <td>False</td>\n",
       "      <td>False</td>\n",
       "      <td>1715.0</td>\n",
       "      <td>32413</td>\n",
       "    </tr>\n",
       "    <tr>\n",
       "      <th>1</th>\n",
       "      <td>3.0</td>\n",
       "      <td>5</td>\n",
       "      <td>moderate</td>\n",
       "      <td>3.0</td>\n",
       "      <td>False</td>\n",
       "      <td>False</td>\n",
       "      <td>3405.0</td>\n",
       "      <td>14122</td>\n",
       "    </tr>\n",
       "    <tr>\n",
       "      <th>2</th>\n",
       "      <td>1.0</td>\n",
       "      <td>2</td>\n",
       "      <td>strict</td>\n",
       "      <td>1.0</td>\n",
       "      <td>True</td>\n",
       "      <td>False</td>\n",
       "      <td>1806.0</td>\n",
       "      <td>47761</td>\n",
       "    </tr>\n",
       "    <tr>\n",
       "      <th>3</th>\n",
       "      <td>1.0</td>\n",
       "      <td>2</td>\n",
       "      <td>moderate</td>\n",
       "      <td>1.0</td>\n",
       "      <td>False</td>\n",
       "      <td>False</td>\n",
       "      <td>1676.0</td>\n",
       "      <td>26648</td>\n",
       "    </tr>\n",
       "    <tr>\n",
       "      <th>4</th>\n",
       "      <td>5.0</td>\n",
       "      <td>10</td>\n",
       "      <td>strict</td>\n",
       "      <td>5.0</td>\n",
       "      <td>False</td>\n",
       "      <td>False</td>\n",
       "      <td>4718.0</td>\n",
       "      <td>26648</td>\n",
       "    </tr>\n",
       "    <tr>\n",
       "      <th>...</th>\n",
       "      <td>...</td>\n",
       "      <td>...</td>\n",
       "      <td>...</td>\n",
       "      <td>...</td>\n",
       "      <td>...</td>\n",
       "      <td>...</td>\n",
       "      <td>...</td>\n",
       "      <td>...</td>\n",
       "    </tr>\n",
       "    <tr>\n",
       "      <th>15526</th>\n",
       "      <td>1.0</td>\n",
       "      <td>2</td>\n",
       "      <td>flexible</td>\n",
       "      <td>1.0</td>\n",
       "      <td>True</td>\n",
       "      <td>False</td>\n",
       "      <td>2040.0</td>\n",
       "      <td>5816</td>\n",
       "    </tr>\n",
       "    <tr>\n",
       "      <th>15527</th>\n",
       "      <td>1.0</td>\n",
       "      <td>1</td>\n",
       "      <td>strict</td>\n",
       "      <td>1.0</td>\n",
       "      <td>True</td>\n",
       "      <td>False</td>\n",
       "      <td>1260.0</td>\n",
       "      <td>19010</td>\n",
       "    </tr>\n",
       "    <tr>\n",
       "      <th>15528</th>\n",
       "      <td>2.0</td>\n",
       "      <td>4</td>\n",
       "      <td>flexible</td>\n",
       "      <td>2.0</td>\n",
       "      <td>True</td>\n",
       "      <td>False</td>\n",
       "      <td>4107.0</td>\n",
       "      <td>6654</td>\n",
       "    </tr>\n",
       "    <tr>\n",
       "      <th>15529</th>\n",
       "      <td>1.0</td>\n",
       "      <td>2</td>\n",
       "      <td>flexible</td>\n",
       "      <td>1.0</td>\n",
       "      <td>True</td>\n",
       "      <td>False</td>\n",
       "      <td>2170.0</td>\n",
       "      <td>27363</td>\n",
       "    </tr>\n",
       "    <tr>\n",
       "      <th>15530</th>\n",
       "      <td>0.0</td>\n",
       "      <td>2</td>\n",
       "      <td>moderate</td>\n",
       "      <td>2.0</td>\n",
       "      <td>True</td>\n",
       "      <td>False</td>\n",
       "      <td>1455.0</td>\n",
       "      <td>12542</td>\n",
       "    </tr>\n",
       "  </tbody>\n",
       "</table>\n",
       "<p>15531 rows × 8 columns</p>\n",
       "</div>"
      ],
      "text/plain": [
       "\n",
       "       engines  passenger_capacity cancellation_policy  crew  \\\n",
       "\u001b[1;36m0\u001b[0m          \u001b[1;36m2.0\u001b[0m                   \u001b[1;36m4\u001b[0m            moderate   \u001b[1;36m2.0\u001b[0m   \n",
       "\u001b[1;36m1\u001b[0m          \u001b[1;36m3.0\u001b[0m                   \u001b[1;36m5\u001b[0m            moderate   \u001b[1;36m3.0\u001b[0m   \n",
       "\u001b[1;36m2\u001b[0m          \u001b[1;36m1.0\u001b[0m                   \u001b[1;36m2\u001b[0m              strict   \u001b[1;36m1.0\u001b[0m   \n",
       "\u001b[1;36m3\u001b[0m          \u001b[1;36m1.0\u001b[0m                   \u001b[1;36m2\u001b[0m            moderate   \u001b[1;36m1.0\u001b[0m   \n",
       "\u001b[1;36m4\u001b[0m          \u001b[1;36m5.0\u001b[0m                  \u001b[1;36m10\u001b[0m              strict   \u001b[1;36m5.0\u001b[0m   \n",
       "\u001b[33m...\u001b[0m        \u001b[33m...\u001b[0m                 \u001b[33m...\u001b[0m                 \u001b[33m...\u001b[0m   \u001b[33m...\u001b[0m   \n",
       "\u001b[1;36m15526\u001b[0m      \u001b[1;36m1.0\u001b[0m                   \u001b[1;36m2\u001b[0m            flexible   \u001b[1;36m1.0\u001b[0m   \n",
       "\u001b[1;36m15527\u001b[0m      \u001b[1;36m1.0\u001b[0m                   \u001b[1;36m1\u001b[0m              strict   \u001b[1;36m1.0\u001b[0m   \n",
       "\u001b[1;36m15528\u001b[0m      \u001b[1;36m2.0\u001b[0m                   \u001b[1;36m4\u001b[0m            flexible   \u001b[1;36m2.0\u001b[0m   \n",
       "\u001b[1;36m15529\u001b[0m      \u001b[1;36m1.0\u001b[0m                   \u001b[1;36m2\u001b[0m            flexible   \u001b[1;36m1.0\u001b[0m   \n",
       "\u001b[1;36m15530\u001b[0m      \u001b[1;36m0.0\u001b[0m                   \u001b[1;36m2\u001b[0m            moderate   \u001b[1;36m2.0\u001b[0m   \n",
       "\n",
       "       d_check_complete  moon_clearance_complete   price  company_id  \n",
       "\u001b[1;36m0\u001b[0m                 \u001b[3;91mFalse\u001b[0m                    \u001b[3;91mFalse\u001b[0m  \u001b[1;36m1715.0\u001b[0m       \u001b[1;36m32413\u001b[0m  \n",
       "\u001b[1;36m1\u001b[0m                 \u001b[3;91mFalse\u001b[0m                    \u001b[3;91mFalse\u001b[0m  \u001b[1;36m3405.0\u001b[0m       \u001b[1;36m14122\u001b[0m  \n",
       "\u001b[1;36m2\u001b[0m                  \u001b[3;92mTrue\u001b[0m                    \u001b[3;91mFalse\u001b[0m  \u001b[1;36m1806.0\u001b[0m       \u001b[1;36m47761\u001b[0m  \n",
       "\u001b[1;36m3\u001b[0m                 \u001b[3;91mFalse\u001b[0m                    \u001b[3;91mFalse\u001b[0m  \u001b[1;36m1676.0\u001b[0m       \u001b[1;36m26648\u001b[0m  \n",
       "\u001b[1;36m4\u001b[0m                 \u001b[3;91mFalse\u001b[0m                    \u001b[3;91mFalse\u001b[0m  \u001b[1;36m4718.0\u001b[0m       \u001b[1;36m26648\u001b[0m  \n",
       "\u001b[33m...\u001b[0m                 \u001b[33m...\u001b[0m                      \u001b[33m...\u001b[0m     \u001b[33m...\u001b[0m         \u001b[33m...\u001b[0m  \n",
       "\u001b[1;36m15526\u001b[0m              \u001b[3;92mTrue\u001b[0m                    \u001b[3;91mFalse\u001b[0m  \u001b[1;36m2040.0\u001b[0m        \u001b[1;36m5816\u001b[0m  \n",
       "\u001b[1;36m15527\u001b[0m              \u001b[3;92mTrue\u001b[0m                    \u001b[3;91mFalse\u001b[0m  \u001b[1;36m1260.0\u001b[0m       \u001b[1;36m19010\u001b[0m  \n",
       "\u001b[1;36m15528\u001b[0m              \u001b[3;92mTrue\u001b[0m                    \u001b[3;91mFalse\u001b[0m  \u001b[1;36m4107.0\u001b[0m        \u001b[1;36m6654\u001b[0m  \n",
       "\u001b[1;36m15529\u001b[0m              \u001b[3;92mTrue\u001b[0m                    \u001b[3;91mFalse\u001b[0m  \u001b[1;36m2170.0\u001b[0m       \u001b[1;36m27363\u001b[0m  \n",
       "\u001b[1;36m15530\u001b[0m              \u001b[3;92mTrue\u001b[0m                    \u001b[3;91mFalse\u001b[0m  \u001b[1;36m1455.0\u001b[0m       \u001b[1;36m12542\u001b[0m  \n",
       "\n",
       "\u001b[1m[\u001b[0m\u001b[1;36m15531\u001b[0m rows x \u001b[1;36m8\u001b[0m columns\u001b[1m]\u001b[0m"
      ]
     },
     "execution_count": 56,
     "metadata": {},
     "output_type": "execute_result"
    }
   ],
   "source": [
    "shuttles.iloc[:,5:]"
   ]
  },
  {
   "cell_type": "markdown",
   "metadata": {},
   "source": [
    "Continue [here](https://www.youtube.com/watch?v=3YeE_gvDCvw&list=PL-JJgymPjK5LddZXbIzp9LWurkLGgB-nY&index=11)\n"
   ]
  },
  {
   "cell_type": "code",
   "execution_count": null,
   "metadata": {},
   "outputs": [],
   "source": []
  }
 ],
 "metadata": {
  "kernelspec": {
   "display_name": "kedro-environment",
   "language": "python",
   "name": "python3"
  },
  "language_info": {
   "codemirror_mode": {
    "name": "ipython",
    "version": 3
   },
   "file_extension": ".py",
   "mimetype": "text/x-python",
   "name": "python",
   "nbconvert_exporter": "python",
   "pygments_lexer": "ipython3",
   "version": "3.10.14"
  }
 },
 "nbformat": 4,
 "nbformat_minor": 2
}
